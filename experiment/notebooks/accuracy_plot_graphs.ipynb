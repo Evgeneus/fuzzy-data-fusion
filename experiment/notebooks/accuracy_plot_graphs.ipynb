{
 "cells": [
  {
   "cell_type": "markdown",
   "metadata": {},
   "source": [
    "<h1>Algorithms accuracy tests</h1>"
   ]
  },
  {
   "cell_type": "code",
   "execution_count": 1,
   "metadata": {
    "collapsed": true
   },
   "outputs": [],
   "source": [
    "import sys\n",
    "import os\n",
    "import random\n",
    "import time\n",
    "import math\n",
    "import pandas as pd\n",
    "import numpy as np\n",
    "import matplotlib.pyplot as plt"
   ]
  },
  {
   "cell_type": "code",
   "execution_count": 2,
   "metadata": {
    "collapsed": false
   },
   "outputs": [
    {
     "name": "stdout",
     "output_type": "stream",
     "text": [
      "Python version 2.7.10 (default, Oct 23 2015, 18:05:06) \n",
      "[GCC 4.2.1 Compatible Apple LLVM 7.0.0 (clang-700.0.59.5)]\n",
      "Pandas version 0.17.1\n"
     ]
    }
   ],
   "source": [
    "print 'Python version ' + sys.version\n",
    "print 'Pandas version ' + pd.__version__"
   ]
  },
  {
   "cell_type": "code",
   "execution_count": 3,
   "metadata": {
    "collapsed": false
   },
   "outputs": [],
   "source": [
    "s_number = 10\n",
    "obj_number = 1000\n",
    "# cov=0.7 !!!"
   ]
  },
  {
   "cell_type": "code",
   "execution_count": 4,
   "metadata": {
    "collapsed": true
   },
   "outputs": [],
   "source": [
    "data = pd.read_csv('../outputs/alg_ac_v5_10_1000.csv')"
   ]
  },
  {
   "cell_type": "code",
   "execution_count": 5,
   "metadata": {
    "collapsed": false
   },
   "outputs": [],
   "source": [
    "p_array = data['p'].drop_duplicates().values\n",
    "em, em_std = [], []\n",
    "g, g_std = [], []\n",
    "mv, mv_std = [], []\n",
    "sums, sums_std = [], []\n",
    "al, al_std = [], []\n",
    "inv, inv_std = [], []\n",
    "pInv, pInv_std = [], []\n",
    "\n",
    "for p in p_array:\n",
    "    data_item = data[data.p == p]\n",
    "    mv.append(np.mean(data_item.mv_ac))\n",
    "    mv_std.append(np.std(data_item.mv_ac))\n",
    "    sums.append(np.mean(data_item.sums_ac))\n",
    "    sums_std.append(np.std(data_item.sums_ac))\n",
    "    al.append(np.mean(data_item.al_ac))\n",
    "    al_std.append(np.std(data_item.al_ac))\n",
    "    inv.append(np.mean(data_item.inv_ac))\n",
    "    inv_std.append(np.std(data_item.inv_ac))\n",
    "    pInv.append(np.mean(data_item.pInv_ac))\n",
    "    pInv_std.append(np.std(data_item.pInv_ac))   \n",
    "    em.append(np.mean(data_item.em_ac))\n",
    "    em_std.append(np.std(data_item.em_ac))\n",
    "    g.append(np.mean(data_item.g_ac))\n",
    "    g_std.append(np.std(data_item.g_ac))"
   ]
  },
  {
   "cell_type": "code",
   "execution_count": 17,
   "metadata": {
    "collapsed": true
   },
   "outputs": [],
   "source": [
    "f, axarr = plt.subplots()\n",
    "f.set_size_inches(14, 5)\n",
    "axarr.plot(p_array, mv, 'c', label='MV')\n",
    "axarr.errorbar(p_array, mv, yerr=mv_std, fmt='c')\n",
    "axarr.plot(p_array, sums, 'k', label='SUMS')\n",
    "axarr.errorbar(p_array, sums, yerr=sums_std, fmt='k')\n",
    "axarr.plot(p_array, al, 'y', label='AL')\n",
    "axarr.errorbar(p_array, al, yerr=al_std, fmt='y')\n",
    "axarr.plot(p_array, inv, 'm', label='Inv')\n",
    "axarr.errorbar(p_array, inv, yerr=inv_std, fmt='m')\n",
    "axarr.plot(p_array, pInv, 'g', label='PInv')\n",
    "axarr.errorbar(p_array, pInv, yerr=pInv_std, fmt='g')\n",
    "axarr.plot(p_array, em, 'r--', label='EM')\n",
    "axarr.errorbar(p_array, em, yerr=em_std, fmt='r--')\n",
    "axarr.plot(p_array, g, 'b--', label='Gibbs')\n",
    "axarr.errorbar(p_array, g, yerr=g_std, fmt='b--')\n",
    "\n",
    "axarr.set_xlabel('Accuracy of sources', fontsize=14)\n",
    "axarr.set_ylabel('Alg. Accuracy', fontsize=14)\n",
    "axarr.legend(loc='lower center', fancybox=True, shadow=True, ncol=3)\n",
    "axarr.set_title('Alg. Accuracy, {} objects, {} sources, 0.7 cov'.format(obj_number, s_number), fontsize=15, fontweight='bold')\n",
    "axarr.axis([0.68, 1.02, 0.7, 1.03])\n",
    "plt.show()"
   ]
  },
  {
   "cell_type": "code",
   "execution_count": null,
   "metadata": {
    "collapsed": true
   },
   "outputs": [],
   "source": []
  }
 ],
 "metadata": {
  "kernelspec": {
   "display_name": "Python 2",
   "language": "python",
   "name": "python2"
  },
  "language_info": {
   "codemirror_mode": {
    "name": "ipython",
    "version": 2
   },
   "file_extension": ".py",
   "mimetype": "text/x-python",
   "name": "python",
   "nbconvert_exporter": "python",
   "pygments_lexer": "ipython2",
   "version": "2.7.10"
  }
 },
 "nbformat": 4,
 "nbformat_minor": 0
}
