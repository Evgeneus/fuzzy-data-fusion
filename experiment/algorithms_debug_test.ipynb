{
 "cells": [
  {
   "cell_type": "markdown",
   "metadata": {},
   "source": [
    "<h1>Algorithms tests</h1>"
   ]
  },
  {
   "cell_type": "code",
   "execution_count": 1,
   "metadata": {
    "collapsed": true
   },
   "outputs": [],
   "source": [
    "import sys\n",
    "import os\n",
    "import random\n",
    "import pandas as pd\n",
    "import numpy as np\n",
    "import matplotlib.pyplot as plt"
   ]
  },
  {
   "cell_type": "code",
   "execution_count": 2,
   "metadata": {
    "collapsed": false
   },
   "outputs": [
    {
     "name": "stdout",
     "output_type": "stream",
     "text": [
      "Python version 2.7.10 (default, Oct 23 2015, 18:05:06) \n",
      "[GCC 4.2.1 Compatible Apple LLVM 7.0.0 (clang-700.0.59.5)]\n",
      "Pandas version 0.17.1\n"
     ]
    }
   ],
   "source": [
    "sys.path.append('/Users/Evgeny/wonderful_programming/fuzzy-fusion-venv/fuzzy-fusion/src/')\n",
    "from generator.generator import generator\n",
    "from algorithm.gibbs import gibbs_sampl\n",
    "from algorithm.gibbs_fuzzy import gibbs_fuzzy\n",
    "from algorithm.em import em\n",
    "\n",
    "print 'Python version ' + sys.version\n",
    "print 'Pandas version ' + pd.__version__"
   ]
  },
  {
   "cell_type": "code",
   "execution_count": null,
   "metadata": {
    "collapsed": false
   },
   "outputs": [
    {
     "name": "stdout",
     "output_type": "stream",
     "text": [
      "0.0\n",
      "*****\n",
      "0\n",
      "1\n",
      "2\n",
      "3\n",
      "4\n",
      "5\n"
     ]
    }
   ],
   "source": [
    "s_number = 12\n",
    "obj_number = 50\n",
    "cl_size = 2\n",
    "cov_list = [0.7]*s_number\n",
    "p_list = [0.7]*s_number\n",
    "accuracy_list = [0.8]*s_number\n",
    "\n",
    "accuracy_for_df = [[i, accuracy_list[i]] for i in range(s_number)]\n",
    "accuracy_data = pd.DataFrame(accuracy_for_df, columns=['S', 'A'])\n",
    "\n",
    "result_list = []\n",
    "iter_list = []\n",
    "for g_true in [0.0, 0.1, 0.2, 0.3, 0.4, 0.5, 0.6, 0.7, 0.8, 0.9, 1.0]:\n",
    "    \n",
    "    print g_true\n",
    "    print '*****'\n",
    "        \n",
    "    for i in range(10):\n",
    "        print i\n",
    "        ground_truth = [random.randint(0, 1) for i in range(obj_number)]\n",
    "        data, g_data = generator(cov_list, p_list, ground_truth, cl_size, g_true)\n",
    "        em_d, em_it = em(data=data, accuracy=accuracy_data, truth_obj_list=ground_truth)\n",
    "        while True:\n",
    "            try:\n",
    "                g_d, g_it = gibbs_sampl(data=data, accuracy_data=accuracy_data, truth_obj_list=ground_truth)\n",
    "                gf_d, gf_it = gibbs_fuzzy(data=data, accuracy_data=accuracy_data, g_data=g_data, truth_obj_list=ground_truth)\n",
    "                break\n",
    "            except ZeroDivisionError:\n",
    "                print 'zero {}'.fprmat(i)\n",
    "        result_list.append([g_true, em_d, g_d, gf_d])\n",
    "        iter_list.append([g_true,em_it, g_it, gf_it])"
   ]
  },
  {
   "cell_type": "code",
   "execution_count": 9,
   "metadata": {
    "collapsed": false
   },
   "outputs": [],
   "source": [
    "# columns_d = ['g_true', 'em_d', 'g_d', 'gf_d']\n",
    "# columns_it = ['g_true', 'em_it', 'g_it', 'gf_it']\n",
    "# output_data = pd.DataFrame(data=result_list, columns=columns_d)\n",
    "# output_iter = pd.DataFrame(data=iter_list, columns=columns_it)\n",
    "# output_data.to_csv('output_data10_50_2.csv')\n",
    "# output_iter.to_csv('output_iter10_50_2.csv')\n",
    "# print 'Done!'"
   ]
  },
  {
   "cell_type": "code",
   "execution_count": 10,
   "metadata": {
    "collapsed": false
   },
   "outputs": [],
   "source": [
    "x = [0.0, 0.1, 0.2, 0.3, 0.4, 0.5, 0.6, 0.7, 0.8, 0.9, 1.0]\n",
    "g_list = [1., 0.9, 0.8, 0.7, 0.6, 0.5, 0.4, 0.3, 0.2, 0.1, 0.0]\n",
    "em, em_std = [], []\n",
    "g, g_std = [], []\n",
    "gf, gf_std = [], []\n",
    "\n",
    "\n",
    "em_it, em_it_std = [], []\n",
    "g_it, g_it_std = [], []\n",
    "gf_it, gf_it_std = [], []\n",
    "\n",
    "columns_d = ['g_true', 'em_d', 'g_d', 'gf_d']\n",
    "columns_it = ['g_true', 'em_it', 'g_it', 'gf_it']\n",
    "# output_data = pd.DataFrame(data=result_list, columns=columns_d)\n",
    "# output_iter = pd.DataFrame(data=iter_list, columns=columns_it)\n",
    "output_data = pd.read_csv('output_data10_50.csv')\n",
    "output_iter = pd.read_csv('output_iter10_50.csv')\n",
    "for g_true in g_list:\n",
    "    data = output_data[output_data.g_true == g_true]\n",
    "    iter_df = output_iter[output_iter.g_true == g_true]\n",
    "    em.append(np.mean(data.em_d))\n",
    "    em_std.append(np.std(data.em_d))\n",
    "    g.append(np.mean(data.g_d))\n",
    "    g_std.append(np.std(data.g_d))\n",
    "    gf.append(np.mean(data.gf_d))\n",
    "    gf_std.append(np.std(data.gf_d))\n",
    "    \n",
    "    em_it.append(np.mean(iter_df.em_it))\n",
    "    em_it_std.append(np.std(iter_df.em_it))\n",
    "    g_it.append(np.mean(iter_df.g_it))\n",
    "    g_it_std.append(np.std(iter_df.g_it))\n",
    "    gf_it.append(np.mean(iter_df.gf_it))\n",
    "    gf_it_std.append(np.std(iter_df.gf_it))"
   ]
  },
  {
   "cell_type": "code",
   "execution_count": 11,
   "metadata": {
    "collapsed": false
   },
   "outputs": [],
   "source": [
    "f, axarr = plt.subplots()\n",
    "f.set_size_inches(14, 5)\n",
    "axarr.plot(x, em, 'r', label='em')\n",
    "axarr.errorbar(x, em, yerr=em_std, fmt='r')\n",
    "axarr.plot(x, g, 'g', label='gibbs')\n",
    "axarr.errorbar(x, g, yerr=g_std, fmt='g')\n",
    "axarr.plot(x, gf, 'b', label='gibbs fuzzy')\n",
    "axarr.errorbar(x, gf, yerr=gf_std, fmt='b')\n",
    "axarr.set_xlabel('P', fontsize=14)\n",
    "axarr.set_ylabel('Trustworthiness', fontsize=14)\n",
    "axarr.legend(loc='lower center', fancybox=True, shadow=True, ncol=3)\n",
    "axarr.set_title('Algorithm trustworthiness, {} objects, {} sources'.format(obj_number, s_number), fontsize=15, fontweight='bold')\n",
    "axarr.axis([-0.1, 1.1, 0.4, 1.])\n",
    "plt.show()"
   ]
  },
  {
   "cell_type": "code",
   "execution_count": 12,
   "metadata": {
    "collapsed": false
   },
   "outputs": [],
   "source": [
    "f, axarr = plt.subplots()\n",
    "f.set_size_inches(14, 5)\n",
    "axarr.plot(x, em_it, 'r', label='em')\n",
    "axarr.errorbar(x, em_it, yerr=em_it_std, fmt='r')\n",
    "axarr.plot(x, g, 'g', label='gibbs')\n",
    "axarr.errorbar(x, g_it, yerr=g_it_std, fmt='g')\n",
    "axarr.plot(x, gf_it, 'b', label='gibbs fuzzy')\n",
    "axarr.errorbar(x, gf_it, yerr=gf_it_std, fmt='b')\n",
    "axarr.set_xlabel('P', fontsize=14)\n",
    "axarr.set_ylabel('iter number', fontsize=14)\n",
    "axarr.legend(loc='lower center', fancybox=True, shadow=True, ncol=3)\n",
    "axarr.set_title('Iter number, {} objects, {} sources, cluster size: 2'.format(obj_number, s_number), fontsize=15, fontweight='bold')\n",
    "# axarr.axis([-0.1, 1.1, 0.4, 0.9])\n",
    "plt.show()"
   ]
  },
  {
   "cell_type": "code",
   "execution_count": null,
   "metadata": {
    "collapsed": true
   },
   "outputs": [],
   "source": []
  },
  {
   "cell_type": "code",
   "execution_count": null,
   "metadata": {
    "collapsed": true
   },
   "outputs": [],
   "source": []
  },
  {
   "cell_type": "code",
   "execution_count": null,
   "metadata": {
    "collapsed": true
   },
   "outputs": [],
   "source": []
  }
 ],
 "metadata": {
  "kernelspec": {
   "display_name": "Python 2",
   "language": "python",
   "name": "python2"
  },
  "language_info": {
   "codemirror_mode": {
    "name": "ipython",
    "version": 2
   },
   "file_extension": ".py",
   "mimetype": "text/x-python",
   "name": "python",
   "nbconvert_exporter": "python",
   "pygments_lexer": "ipython2",
   "version": "2.7.10"
  }
 },
 "nbformat": 4,
 "nbformat_minor": 0
}
