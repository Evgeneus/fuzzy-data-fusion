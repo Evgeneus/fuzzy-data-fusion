{
 "cells": [
  {
   "cell_type": "markdown",
   "metadata": {},
   "source": [
    "<h1>Algorithms tests</h1>"
   ]
  },
  {
   "cell_type": "code",
   "execution_count": 5,
   "metadata": {
    "collapsed": true
   },
   "outputs": [],
   "source": [
    "import sys\n",
    "import os\n",
    "import random\n",
    "import pandas as pd\n",
    "import numpy as np\n",
    "import matplotlib.pyplot as plt"
   ]
  },
  {
   "cell_type": "code",
   "execution_count": 6,
   "metadata": {
    "collapsed": false
   },
   "outputs": [
    {
     "name": "stdout",
     "output_type": "stream",
     "text": [
      "Python version 2.7.10 (default, Oct 23 2015, 18:05:06) \n",
      "[GCC 4.2.1 Compatible Apple LLVM 7.0.0 (clang-700.0.59.5)]\n",
      "Pandas version 0.17.1\n"
     ]
    }
   ],
   "source": [
    "sys.path.append('/Users/Evgeny/wonderful_programming/fuzzy-fusion-venv/fuzzy-fusion/src/')\n",
    "from generator.generator import generator\n",
    "from algorithm.gibbs import gibbs_sampl\n",
    "from algorithm.gibbs_fuzzy import gibbs_fuzzy\n",
    "from algorithm.em import em\n",
    "\n",
    "print 'Python version ' + sys.version\n",
    "print 'Pandas version ' + pd.__version__"
   ]
  },
  {
   "cell_type": "code",
   "execution_count": 7,
   "metadata": {
    "collapsed": false
   },
   "outputs": [],
   "source": [
    "s_number = 5\n",
    "obj_number = 10\n",
    "cov_list = [0.7]*s_number\n",
    "p_list = [0.7]*s_number\n",
    "ground_truth = [random.randint(0, 1) for i in range(obj_number)]\n",
    "accuracy_list = [0.8]*s_number\n",
    "# accuracy_list = [0.8, 0.5, 0.6, 0.7, 0.9]\n",
    "g_true = 0.5\n",
    "\n",
    "accuracy_for_df = [[i, accuracy_list[i]] for i in range(s_number)]\n",
    "accuracy_data = pd.DataFrame(accuracy_for_df, columns=['S', 'A'])\n",
    "\n",
    "em_d = []\n",
    "g_d = []\n",
    "gf_d = []\n",
    "data, g_data = generator(cov_list, p_list, ground_truth, 1, 1.)\n",
    "\n",
    "em_d.append(em(data=data, accuracy=accuracy_data, truth_obj_list=ground_truth)[0])\n",
    "for i in range(10):\n",
    "    while True:\n",
    "        try:\n",
    "            g_d.append(gibbs_sampl(data=data, accuracy_data=accuracy_data, truth_obj_list=ground_truth)[0])\n",
    "            gf_d.append(gibbs_fuzzy(data=data, accuracy_data=accuracy_data, g_data=g_data, truth_obj_list=ground_truth)[0])\n",
    "            break\n",
    "        except ZeroDivisionError:\n",
    "            print 'zero {}'.fprmat(i)"
   ]
  },
  {
   "cell_type": "code",
   "execution_count": 8,
   "metadata": {
    "collapsed": false
   },
   "outputs": [
    {
     "name": "stdout",
     "output_type": "stream",
     "text": [
      "em: 0.9; 0.0\n",
      "g_d: 0.854000034188; 0.0407921534431\n",
      "gf_d: 0.880221421569; 0.0188471399058\n"
     ]
    }
   ],
   "source": [
    "print 'em: {}; {}'.format(np.mean(em_d), np.std(em_d))\n",
    "print 'g_d: {}; {}'.format(np.mean(g_d), np.std(g_d))\n",
    "print 'gf_d: {}; {}'.format(np.mean(gf_d), np.std(gf_d))"
   ]
  },
  {
   "cell_type": "code",
   "execution_count": null,
   "metadata": {
    "collapsed": true
   },
   "outputs": [],
   "source": []
  }
 ],
 "metadata": {
  "kernelspec": {
   "display_name": "Python 2",
   "language": "python",
   "name": "python2"
  },
  "language_info": {
   "codemirror_mode": {
    "name": "ipython",
    "version": 2
   },
   "file_extension": ".py",
   "mimetype": "text/x-python",
   "name": "python",
   "nbconvert_exporter": "python",
   "pygments_lexer": "ipython2",
   "version": "2.7.10"
  }
 },
 "nbformat": 4,
 "nbformat_minor": 0
}
