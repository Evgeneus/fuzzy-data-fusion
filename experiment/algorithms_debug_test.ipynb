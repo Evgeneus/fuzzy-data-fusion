{
 "cells": [
  {
   "cell_type": "markdown",
   "metadata": {},
   "source": [
    "<h1>Algorithms tests</h1>"
   ]
  },
  {
   "cell_type": "code",
   "execution_count": 74,
   "metadata": {
    "collapsed": true
   },
   "outputs": [],
   "source": [
    "import sys\n",
    "import os\n",
    "import random\n",
    "import pandas as pd\n",
    "import numpy as np\n",
    "import matplotlib.pyplot as plt"
   ]
  },
  {
   "cell_type": "code",
   "execution_count": 75,
   "metadata": {
    "collapsed": false
   },
   "outputs": [
    {
     "name": "stdout",
     "output_type": "stream",
     "text": [
      "Python version 2.7.10 (default, Oct 23 2015, 18:05:06) \n",
      "[GCC 4.2.1 Compatible Apple LLVM 7.0.0 (clang-700.0.59.5)]\n",
      "Pandas version 0.17.1\n"
     ]
    }
   ],
   "source": [
    "sys.path.append('/Users/Evgeny/wonderful_programming/fuzzy-fusion-venv/fuzzy-fusion/src/')\n",
    "from generator.generator import generator\n",
    "from algorithm.gibbs import gibbs_sampl\n",
    "from algorithm.gibbs_fuzzy import gibbs_fuzzy\n",
    "from algorithm.em import em\n",
    "\n",
    "print 'Python version ' + sys.version\n",
    "print 'Pandas version ' + pd.__version__"
   ]
  },
  {
   "cell_type": "code",
   "execution_count": 77,
   "metadata": {
    "collapsed": false
   },
   "outputs": [
    {
     "name": "stdout",
     "output_type": "stream",
     "text": [
      "0.0\n",
      "*****\n",
      "0.1\n",
      "*****\n",
      "!\n",
      "0.2\n",
      "*****\n",
      "!\n",
      "0.3\n",
      "*****\n",
      "0.4\n",
      "*****\n",
      "!\n",
      "0.5\n",
      "*****\n",
      "0.6\n",
      "*****\n",
      "!\n",
      "!\n",
      "0.7\n",
      "*****\n",
      "!\n",
      "0.8\n",
      "*****\n",
      "0.9\n",
      "*****\n",
      "!\n",
      "1.0\n",
      "*****\n",
      "!\n"
     ]
    }
   ],
   "source": [
    "s_number = 5\n",
    "obj_number = 20\n",
    "cl_size = 15\n",
    "cov_list = [0.7]*s_number\n",
    "p_list = [0.7]*s_number\n",
    "accuracy_list = [0.8]*s_number\n",
    "\n",
    "accuracy_for_df = [[i, accuracy_list[i]] for i in range(s_number)]\n",
    "accuracy_data = pd.DataFrame(accuracy_for_df, columns=['S', 'A'])\n",
    "\n",
    "result_list = []\n",
    "for g_true in [0.0, 0.1, 0.2, 0.3, 0.4, 0.5, 0.6, 0.7, 0.8, 0.9, 1.0]:\n",
    "    \n",
    "    print g_true\n",
    "    print '*****'\n",
    "        \n",
    "    for i in range(10):\n",
    "        ground_truth = [random.randint(0, 1) for i in range(obj_number)]\n",
    "        data, g_data = generator(cov_list, p_list, ground_truth, cl_size, g_true)\n",
    "        em_d = em(data=data, accuracy=accuracy_data, truth_obj_list=ground_truth)[0]\n",
    "        while True:\n",
    "            try:\n",
    "                g_d = gibbs_sampl(data=data, accuracy_data=accuracy_data, truth_obj_list=ground_truth)[0]\n",
    "                gf_d = gibbs_fuzzy(data=data, accuracy_data=accuracy_data, g_data=g_data, truth_obj_list=ground_truth)[0]\n",
    "                break\n",
    "            except ZeroDivisionError:\n",
    "                print 'zero {}'.fprmat(i)\n",
    "        result_list.append([g_true, em_d, g_d, gf_d])"
   ]
  },
  {
   "cell_type": "code",
   "execution_count": 78,
   "metadata": {
    "collapsed": false
   },
   "outputs": [],
   "source": [
    "columns = ['p_g', 'em', 'g', 'gf']\n",
    "result_data = pd.DataFrame(data=result_list, columns=columns)\n",
    "result_data.to_csv('output_dat15.csv')"
   ]
  },
  {
   "cell_type": "code",
   "execution_count": 79,
   "metadata": {
    "collapsed": false
   },
   "outputs": [],
   "source": [
    "x = [0.0, 0.1, 0.2, 0.3, 0.4, 0.5, 0.6, 0.7, 0.8, 0.9, 1.0]\n",
    "em, em_std = [], []\n",
    "g, g_std = [], []\n",
    "gf, gf_std = [], []\n",
    "for g_true in x:\n",
    "    data = result_data[result_data.p_g == g_true]\n",
    "    em.append(np.mean(data.em))\n",
    "    em_std.append(np.std(data.em))\n",
    "    g.append(np.mean(data.g))\n",
    "    g_std.append(np.std(data.g))\n",
    "    gf.append(np.mean(data.gf))\n",
    "    gf_std.append(np.std(data.gf))"
   ]
  },
  {
   "cell_type": "code",
   "execution_count": 80,
   "metadata": {
    "collapsed": false
   },
   "outputs": [],
   "source": [
    "f, axarr = plt.subplots()\n",
    "f.set_size_inches(14, 5)\n",
    "axarr.plot(x, em, 'r', label='em')\n",
    "axarr.errorbar(x, em, yerr=em_std, fmt='r')\n",
    "axarr.plot(x, g, 'g', label='gibbs')\n",
    "axarr.errorbar(x, g, yerr=g_std, fmt='g')\n",
    "axarr.plot(x, gf, 'b', label='gibbs fuzzy')\n",
    "axarr.errorbar(x, gf, yerr=gf_std, fmt='b')\n",
    "axarr.set_xlabel('Probability of g=true_obj', fontsize=14)\n",
    "axarr.set_ylabel('Dist', fontsize=14)\n",
    "axarr.legend(loc='lower center', fancybox=True, shadow=True, ncol=3)\n",
    "axarr.set_title('Dist to truth, cluster_size={}'.format(cl_size), fontsize=15, fontweight='bold')\n",
    "axarr.axis([-0.1, 1.1, 0.4, 0.9])\n",
    "plt.show()"
   ]
  },
  {
   "cell_type": "code",
   "execution_count": null,
   "metadata": {
    "collapsed": false
   },
   "outputs": [],
   "source": []
  },
  {
   "cell_type": "code",
   "execution_count": null,
   "metadata": {
    "collapsed": true
   },
   "outputs": [],
   "source": []
  }
 ],
 "metadata": {
  "kernelspec": {
   "display_name": "Python 2",
   "language": "python",
   "name": "python2"
  },
  "language_info": {
   "codemirror_mode": {
    "name": "ipython",
    "version": 2
   },
   "file_extension": ".py",
   "mimetype": "text/x-python",
   "name": "python",
   "nbconvert_exporter": "python",
   "pygments_lexer": "ipython2",
   "version": "2.7.10"
  }
 },
 "nbformat": 4,
 "nbformat_minor": 0
}
