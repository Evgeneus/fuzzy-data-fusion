{
 "cells": [
  {
   "cell_type": "markdown",
   "metadata": {},
   "source": [
    "<h1>Gibbs sampling vs EM</h1>"
   ]
  },
  {
   "cell_type": "code",
   "execution_count": 1,
   "metadata": {
    "collapsed": true
   },
   "outputs": [],
   "source": [
    "import sys\n",
    "import os\n",
    "import pandas as pd\n",
    "import numpy as np"
   ]
  },
  {
   "cell_type": "code",
   "execution_count": 2,
   "metadata": {
    "collapsed": false
   },
   "outputs": [
    {
     "name": "stdout",
     "output_type": "stream",
     "text": [
      "Python version 2.7.10 (default, Oct 23 2015, 18:05:06) \n",
      "[GCC 4.2.1 Compatible Apple LLVM 7.0.0 (clang-700.0.59.5)]\n",
      "Pandas version 0.17.1\n"
     ]
    }
   ],
   "source": [
    "sys.path.append('/Users/Evgeny/wonderful_programming/fuzzy-fusion-venv/fuzzy-fusion/src/')\n",
    "from algorithm import gibbs\n",
    "\n",
    "print 'Python version ' + sys.version\n",
    "print 'Pandas version ' + pd.__version__"
   ]
  },
  {
   "cell_type": "code",
   "execution_count": 3,
   "metadata": {
    "collapsed": true
   },
   "outputs": [],
   "source": [
    "data = pd.read_csv('../data/observation.csv', names=['S', 'O', 'V'])\n",
    "accuracy_data = pd.read_csv('../data/accuracy.csv', names=['S', 'A'])"
   ]
  },
  {
   "cell_type": "code",
   "execution_count": 4,
   "metadata": {
    "collapsed": false
   },
   "outputs": [
    {
     "ename": "TypeError",
     "evalue": "gibbs_sampl() takes exactly 3 arguments (2 given)",
     "output_type": "error",
     "traceback": [
      "\u001b[0;31m---------------------------------------------------------------------------\u001b[0m",
      "\u001b[0;31mTypeError\u001b[0m                                 Traceback (most recent call last)",
      "\u001b[0;32m<ipython-input-4-675c003b40f8>\u001b[0m in \u001b[0;36m<module>\u001b[0;34m()\u001b[0m\n\u001b[0;32m----> 1\u001b[0;31m \u001b[0mgibbs_dist_mean\u001b[0m\u001b[0;34m,\u001b[0m \u001b[0mgibbs_dist_std\u001b[0m\u001b[0;34m,\u001b[0m \u001b[0mgibbs_iter_mean\u001b[0m\u001b[0;34m,\u001b[0m \u001b[0mgibbs_iter_std\u001b[0m  \u001b[0;34m=\u001b[0m \u001b[0mgibbs\u001b[0m\u001b[0;34m.\u001b[0m\u001b[0mgibbs_sampl\u001b[0m\u001b[0;34m(\u001b[0m\u001b[0mdata\u001b[0m\u001b[0;34m=\u001b[0m\u001b[0mdata\u001b[0m\u001b[0;34m,\u001b[0m \u001b[0maccuracy_data\u001b[0m\u001b[0;34m=\u001b[0m\u001b[0maccuracy_data\u001b[0m\u001b[0;34m)\u001b[0m\u001b[0;34m\u001b[0m\u001b[0m\n\u001b[0m",
      "\u001b[0;31mTypeError\u001b[0m: gibbs_sampl() takes exactly 3 arguments (2 given)"
     ]
    }
   ],
   "source": [
    "gibbs_dist_mean, gibbs_dist_std, gibbs_iter_mean, gibbs_iter_std  = gibbs.gibbs_sampl(data=data, accuracy_data=accuracy_data)"
   ]
  },
  {
   "cell_type": "code",
   "execution_count": null,
   "metadata": {
    "collapsed": false
   },
   "outputs": [],
   "source": [
    "print 'GIBBS SAMPLING'\n",
    "print 'Sample number: 10'\n",
    "print 'dist_mean: {}'.format(gibbs_dist_mean)\n",
    "print 'dist_std {}'.format(gibbs_dist_std)\n",
    "print 'iter number mean: {}'.format(gibbs_iter_mean)\n",
    "print 'iter number std: {}'.format(gibbs_iter_std)\n",
    "print '------------------------'\n",
    "print 'EM:'\n",
    "print 'em_dist: 0.802093181624'\n",
    "print 'iter number: 13'"
   ]
  },
  {
   "cell_type": "code",
   "execution_count": null,
   "metadata": {
    "collapsed": true
   },
   "outputs": [],
   "source": []
  },
  {
   "cell_type": "code",
   "execution_count": null,
   "metadata": {
    "collapsed": true
   },
   "outputs": [],
   "source": []
  }
 ],
 "metadata": {
  "kernelspec": {
   "display_name": "Python 2",
   "language": "python",
   "name": "python2"
  },
  "language_info": {
   "codemirror_mode": {
    "name": "ipython",
    "version": 2
   },
   "file_extension": ".py",
   "mimetype": "text/x-python",
   "name": "python",
   "nbconvert_exporter": "python",
   "pygments_lexer": "ipython2",
   "version": "2.7.10"
  }
 },
 "nbformat": 4,
 "nbformat_minor": 0
}
