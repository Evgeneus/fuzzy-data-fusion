{
 "cells": [
  {
   "cell_type": "markdown",
   "metadata": {},
   "source": [
    "<h1>Gibbs sampling vs EM</h1>"
   ]
  },
  {
   "cell_type": "code",
   "execution_count": 1,
   "metadata": {
    "collapsed": false
   },
   "outputs": [],
   "source": [
    "import sys\n",
    "import os\n",
    "import pandas as pd\n",
    "import numpy as np"
   ]
  },
  {
   "cell_type": "code",
   "execution_count": 2,
   "metadata": {
    "collapsed": false
   },
   "outputs": [
    {
     "name": "stdout",
     "output_type": "stream",
     "text": [
      "Python version 2.7.10 (default, Oct 23 2015, 18:05:06) \n",
      "[GCC 4.2.1 Compatible Apple LLVM 7.0.0 (clang-700.0.59.5)]\n",
      "Pandas version 0.17.1\n"
     ]
    }
   ],
   "source": [
    "sys.path.append('/Users/Evgeny/wonderful_programming/fuzzy-fusion-venv/fuzzy-fusion/src/')\n",
    "from algorithm import gibbs\n",
    "\n",
    "print 'Python version ' + sys.version\n",
    "print 'Pandas version ' + pd.__version__"
   ]
  },
  {
   "cell_type": "code",
   "execution_count": 5,
   "metadata": {
    "collapsed": false
   },
   "outputs": [],
   "source": [
    "data = pd.read_csv('../data/observation.csv', names=['S', 'O', 'V'])\n",
    "accuracy_data = pd.read_csv('../data/accuracy.csv', names=['S', 'A'])"
   ]
  },
  {
   "cell_type": "code",
   "execution_count": 6,
   "metadata": {
    "collapsed": false
   },
   "outputs": [
    {
     "name": "stdout",
     "output_type": "stream",
     "text": [
      "dist: 0.802430162687\n",
      "iter number: 21\n",
      "___\n",
      "dist: 0.804221059356\n",
      "iter number: 8\n",
      "___\n",
      "dist: 0.804239490639\n",
      "iter number: 3\n",
      "___\n",
      "dist: 0.800848847666\n",
      "iter number: 11\n",
      "___\n",
      "dist: 0.798724214903\n",
      "iter number: 12\n",
      "___\n",
      "dist: 0.792334313075\n",
      "iter number: 8\n",
      "___\n",
      "dist: 0.799337765535\n",
      "iter number: 17\n",
      "___\n",
      "dist: 0.792792162666\n",
      "iter number: 16\n",
      "___\n",
      "dist: 0.793091035711\n",
      "iter number: 14\n",
      "___\n",
      "dist: 0.802538991079\n",
      "iter number: 11\n",
      "___\n"
     ]
    }
   ],
   "source": [
    "gibbs_dist_mean, gibbs_dist_std, gibbs_iter_mean, gibbs_iter_std  = gibbs.gibbs_sampl(data=data, accuracy_data=accuracy_data)"
   ]
  },
  {
   "cell_type": "code",
   "execution_count": 8,
   "metadata": {
    "collapsed": false
   },
   "outputs": [
    {
     "name": "stdout",
     "output_type": "stream",
     "text": [
      "GIBBS SAMPLING\n",
      "Sample number: 10\n",
      "dist_mean: 0.799055804332\n",
      "dist_std 0.00447731975419\n",
      "iter number mean: 12.1\n",
      "iter number std: 4.90815647672\n",
      "------------------------\n",
      "EM:\n",
      "em_dist: 0.802093181624\n",
      "iter number: 13\n"
     ]
    }
   ],
   "source": [
    "print 'GIBBS SAMPLING'\n",
    "print 'Sample number: 10'\n",
    "print 'dist_mean: {}'.format(gibbs_dist_mean)\n",
    "print 'dist_std {}'.format(gibbs_dist_std)\n",
    "print 'iter number mean: {}'.format(gibbs_iter_mean)\n",
    "print 'iter number std: {}'.format(gibbs_iter_std)\n",
    "print '------------------------'\n",
    "print 'EM:'\n",
    "print 'em_dist: 0.802093181624'\n",
    "print 'iter number: 13'"
   ]
  },
  {
   "cell_type": "code",
   "execution_count": null,
   "metadata": {
    "collapsed": true
   },
   "outputs": [],
   "source": []
  },
  {
   "cell_type": "code",
   "execution_count": null,
   "metadata": {
    "collapsed": true
   },
   "outputs": [],
   "source": []
  }
 ],
 "metadata": {
  "kernelspec": {
   "display_name": "Python 2",
   "language": "python",
   "name": "python2"
  },
  "language_info": {
   "codemirror_mode": {
    "name": "ipython",
    "version": 2
   },
   "file_extension": ".py",
   "mimetype": "text/x-python",
   "name": "python",
   "nbconvert_exporter": "python",
   "pygments_lexer": "ipython2",
   "version": "2.7.10"
  }
 },
 "nbformat": 4,
 "nbformat_minor": 0
}
