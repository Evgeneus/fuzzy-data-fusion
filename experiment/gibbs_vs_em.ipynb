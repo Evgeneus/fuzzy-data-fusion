{
 "cells": [
  {
   "cell_type": "markdown",
   "metadata": {},
   "source": [
    "<h1>Gibbs sampling vs EM</h1>"
   ]
  },
  {
   "cell_type": "code",
   "execution_count": 1,
   "metadata": {
    "collapsed": true
   },
   "outputs": [],
   "source": [
    "import sys\n",
    "import pandas as pd\n",
    "import numpy as np"
   ]
  },
  {
   "cell_type": "code",
   "execution_count": 2,
   "metadata": {
    "collapsed": false
   },
   "outputs": [
    {
     "name": "stdout",
     "output_type": "stream",
     "text": [
      "Python version 2.7.10 (default, Oct 23 2015, 18:05:06) \n",
      "[GCC 4.2.1 Compatible Apple LLVM 7.0.0 (clang-700.0.59.5)]\n",
      "Pandas version 0.17.1\n"
     ]
    }
   ],
   "source": [
    "print 'Python version ' + sys.version\n",
    "print 'Pandas version ' + pd.__version__"
   ]
  },
  {
   "cell_type": "code",
   "execution_count": 3,
   "metadata": {
    "collapsed": false
   },
   "outputs": [],
   "source": [
    "gibbs_dist = [\n",
    "    0.794063576887,\n",
    "    0.802886016157,\n",
    "    0.755871263296,\n",
    "    0.802506384789,\n",
    "    0.798602091627,\n",
    "    0.802352124151,\n",
    "    0.801492007739,\n",
    "    0.80220698592,\n",
    "    0.80248061907,\n",
    "    0.785175309994\n",
    "]\n",
    "gibbs_iter = [\n",
    "    13,\n",
    "    17,\n",
    "    12,\n",
    "    17,\n",
    "    12,\n",
    "    19,\n",
    "    22,\n",
    "    18,\n",
    "    18,\n",
    "    12\n",
    "]"
   ]
  },
  {
   "cell_type": "code",
   "execution_count": 4,
   "metadata": {
    "collapsed": false,
    "scrolled": true
   },
   "outputs": [
    {
     "name": "stdout",
     "output_type": "stream",
     "text": [
      "Sample number: 10\n",
      "dist_mean: 0.794763637963\n",
      "dist_std 0.0140125340932\n",
      "iter number mean: 16.0\n",
      "iter number std: 3.34664010614\n",
      "------------------------\n",
      "em_dist: 0.802093181624\n",
      "iter number: 13\n"
     ]
    }
   ],
   "source": [
    "gibbs_dist_mean = np.mean(gibbs_dist)\n",
    "gibbs_dist_std = np.std(gibbs_dist)\n",
    "gibbs_iter_mean = np.mean(gibbs_iter)\n",
    "gibbs_iter_std = np.std(gibbs_iter)\n",
    "\n",
    "print 'Sample number: 10'\n",
    "print 'dist_mean: {}'.format(gibbs_dist_mean)\n",
    "print 'dist_std {}'.format(gibbs_dist_std)\n",
    "print 'iter number mean: {}'.format(gibbs_iter_mean)\n",
    "print 'iter number std: {}'.format(gibbs_iter_std)\n",
    "print '------------------------'\n",
    "print 'em_dist: 0.802093181624'\n",
    "print 'iter number: 13'"
   ]
  },
  {
   "cell_type": "code",
   "execution_count": null,
   "metadata": {
    "collapsed": true
   },
   "outputs": [],
   "source": []
  }
 ],
 "metadata": {
  "kernelspec": {
   "display_name": "Python 2",
   "language": "python",
   "name": "python2"
  },
  "language_info": {
   "codemirror_mode": {
    "name": "ipython",
    "version": 2
   },
   "file_extension": ".py",
   "mimetype": "text/x-python",
   "name": "python",
   "nbconvert_exporter": "python",
   "pygments_lexer": "ipython2",
   "version": "2.7.10"
  }
 },
 "nbformat": 4,
 "nbformat_minor": 0
}
