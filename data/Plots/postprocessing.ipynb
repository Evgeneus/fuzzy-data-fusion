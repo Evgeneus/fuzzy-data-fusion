{
 "cells": [
  {
   "cell_type": "markdown",
   "metadata": {},
   "source": [
    "# Data postprocessing"
   ]
  },
  {
   "cell_type": "code",
   "execution_count": 1,
   "metadata": {
    "collapsed": true
   },
   "outputs": [],
   "source": [
    "import pandas as pd\n",
    "import numpy as np"
   ]
  },
  {
   "cell_type": "code",
   "execution_count": 6,
   "metadata": {
    "collapsed": true
   },
   "outputs": [],
   "source": [
    "file_name = 'plots1_res'\n",
    "df = pd.read_csv('{}.csv'.format(file_name), delimiter=';')"
   ]
  },
  {
   "cell_type": "code",
   "execution_count": 5,
   "metadata": {
    "collapsed": false
   },
   "outputs": [],
   "source": [
    "columns = ['question_n','gt', 'gt_conf', 'is_conf_found', 'num_votes', 'num_conf', 'num_wrong']\n",
    "data = []\n",
    "for question_n in sorted(df['question_n'].unique()):\n",
    "    df_question = df[(df['question_n'] == question_n) & (df['_golden'] == False)]\n",
    "    num_conf = num_wrong = 0\n",
    "    for _, row in df_question.iterrows():\n",
    "#         if row['_golden'] and row['gt_conf'] != np.nan:  continue\n",
    "        if row['crowd_ans'] != row['gt']:\n",
    "            if row['crowd_ans'] == row['gt_conf']: num_conf += 1\n",
    "            else: num_wrong += 1\n",
    "    data.append([question_n, row['gt'], row['gt_conf'], 1 if num_conf else 0, len(df_question), num_conf, num_wrong])\n",
    "pd.DataFrame(data, columns=columns).to_csv('{}_postporos.csv'.format(file_name), index=False)"
   ]
  },
  {
   "cell_type": "code",
   "execution_count": null,
   "metadata": {
    "collapsed": true
   },
   "outputs": [],
   "source": []
  }
 ],
 "metadata": {
  "kernelspec": {
   "display_name": "Python 2",
   "language": "python",
   "name": "python2"
  },
  "language_info": {
   "codemirror_mode": {
    "name": "ipython",
    "version": 2
   },
   "file_extension": ".py",
   "mimetype": "text/x-python",
   "name": "python",
   "nbconvert_exporter": "python",
   "pygments_lexer": "ipython2",
   "version": "2.7.10"
  }
 },
 "nbformat": 4,
 "nbformat_minor": 0
}
