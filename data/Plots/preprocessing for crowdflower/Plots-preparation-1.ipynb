{
 "cells": [
  {
   "cell_type": "markdown",
   "metadata": {},
   "source": [
    "# Plots-1"
   ]
  },
  {
   "cell_type": "code",
   "execution_count": 1,
   "metadata": {
    "collapsed": false
   },
   "outputs": [],
   "source": [
    "import pandas as pd\n",
    "import os\n",
    "import random\n",
    "from random import shuffle"
   ]
  },
  {
   "cell_type": "code",
   "execution_count": 12,
   "metadata": {
    "collapsed": true
   },
   "outputs": [],
   "source": [
    "plots = ['Le ali della libertà', 'Il padrino', 'Il padrino - Parte II', 'Il cavaliere oscuro', 'La parola ai giurati', \"Schindler's List\", 'Il Signore degli Anelli - Il ritorno del re', 'Pulp Fiction', 'Il buono, il brutto, il cattivo', ' Fight Club', \"Il Signore degli Anelli - La compagnia dell'Anello\", 'Forrest Gump', \"L'Impero colpisce ancora\", 'Inception', 'Il Signore degli Anelli - Le due torri', 'Qualcuno volò sul nido del cuculo', 'Quei bravi ragazzi', 'Matrix', 'I sette samurai', 'Seven', 'City of God', 'Guerre stellari', 'Il silenzio degli innocenti', 'La vita è meravigliosa', 'La vita è bella', 'Spider-Man: Un nuovo universo', 'La città incantata', 'Salvate il soldato Ryan', 'I soliti sospetti', 'Léon', 'Il miglio verde', 'Interstellar', 'Psyco', 'American History X', 'Luci della città', 'Casablanca', \"C'era una volta il West\", 'Il pianista', 'Tempi moderni', 'Quasi amici - Intouchables', 'The Departed - Il bene e il male', 'Ritorno al futuro', 'Terminator 2 - Il giorno del giudizio', 'Whiplash', 'La finestra sul cortile', 'The Lion King', \"I predatori dell'arca perduta\", 'Il gladiatore', 'The Prestige', 'Apocalypse Now', 'Memento', 'Alien', 'Nuovo Cinema Paradiso', 'Una tomba per le lucciole', 'Il grande dittatore', 'Viale del tramonto', 'Le vite degli altri', 'Il dottor Stranamore - Ovvero: come ho imparato a non preoccuparmi e ad amare la bomba', 'Avengers: Infinity War', 'Orizzonti di gloria', 'Shining', 'Django Unchained', 'WALL·E', 'Principessa Mononoke', \"Testimone d'accusa\", 'Oldboy', 'Il cavaliere oscuro - Il ritorno', 'American Beauty', 'Aliens - Scontro finale', \"C'era una volta in America\", 'Coco', 'U-Boot 96', 'Quarto potere', 'Braveheart - Cuore impavido', 'La donna che visse due volte', 'Intrigo internazionale', 'Le iene', 'Il ritorno dello Jedi', 'Your Name', 'M - Il mostro di Düsseldorf', 'Amadeus', 'Dangal', 'Requiem for a Dream', 'Stelle sulla Terra', '3 Idiots', \"Lawrence d'Arabia\", 'Se mi lasci ti cancello', '2001: Odissea nello spazio', 'Toy Story - Il mondo dei giocattoli', 'Arancia meccanica', 'Il favoloso mondo di Amélie', 'La fiamma del peccato', 'Cantando sotto la pioggia', 'Taxi Driver', 'Bastardi senza gloria', 'Full Metal Jacket', 'Ladri di biciclette', 'Il buio oltre la siepe', 'Il monello', ' La stangata', 'Will Hunting - Genio ribelle', 'Toy Story 3 - La grande fuga', 'Il sospetto', 'Snatch - Lo strappo', 'Scarface', 'Per qualche dollaro in più', 'Monty Python e il Sacro Graal', \"L'appartamento\", 'Metropolis', 'LA Confidential', 'Una separazione', \"Indiana Jones e l'ultima crociata\", 'Rashomon', 'Up', 'Eva contro Eva', 'Batman Begins', 'La sfida del samurai', 'A qualcuno piace caldo', 'Gli spietati', 'La caduta - Gli ultimi giorni di Hitler', 'Trappola di cristallo', 'Il tesoro della Sierra Madre', 'Heat - La sfida', 'La donna che canta', 'Vivere', 'Toro scatenato', 'La grande fuga', 'I bambini del cielo', 'Green Book', 'Il labirinto del fauno', 'Chinatown', 'Mio padre e mio figlio', 'Il mio vicino Totoro', 'Il terzo uomo', 'Il castello errante di Howl', 'Ran', 'Vincitori e vinti', 'Andhadhun', 'Il segreto dei suoi occhi', \"La febbre dell'oro\", 'Il ponte sul fiume Kwai', 'A Beautiful Mind', 'Lock & Stock - Pazzi scatenati', 'Casinò', 'Tre manifesti a Ebbing, Missouri', 'Fronte del porto', 'Il settimo sigillo', 'Inside Out', 'The Elephant Man', 'The Wolf of Wall Street', 'Room', 'V per Vendetta', 'Mr Smith va a Washington', 'Warrior', 'Blade Runner', 'Il delitto perfetto', 'Il posto delle fragole', 'Non è un paese per vecchi', 'Come vinsi la guerra', 'Il petroliere', 'Trainspotting', 'The Sixth Sense - Il sesto senso', 'Via col vento', 'La cosa', 'Fargo', \"Va' e vedi\", 'Gran Torino', 'Alla ricerca di Nemo', 'Il cacciatore', 'Il grande Lebowski', 'Shutter Island', 'La palla n° 13', 'Kill Bill - Volume 1', 'Nick mano fredda', 'Viaggio a Tokyo', 'Rebecca - La prima moglie', 'Mary and Max', 'La battaglia di Hacksaw Ridge', 'Dragon Trainer', \"L'amore bugiardo - Gone Girl\", 'Jurassic Park', 'Storie pazzesche', 'Aurora', 'The Truman Show', 'Stalker', 'Into the Wild - Nelle terre selvagge', 'Nel nome del padre', 'Grand Budapest Hotel', \"Stand by Me - Ricordo di un'estate\", 'Accadde una notte', 'Platoon', 'Brian di Nazareth', 'Quinto potere', 'Eskiya', 'Memories of Murder', 'Persona', 'Ben-Hur', 'Hotel Rwanda', '12 anni schiavo', 'Million Dollar Baby', 'Andrej Rublev', \"Prima dell'alba\", 'Vite vendute', 'Rush', \"La passione di Giovanna d'Arco\", 'Mad Max: Fury Road', 'Prisoners', 'I 400 colpi', 'Hachiko - Il tuo migliore amico', 'Il caso Spotlight', 'Amores perros', 'Logan - The Wolverine', 'Prova a prendermi', 'La storia fantastica', 'Nausicaä della valle del vento', 'Rang De Basanti', 'Harry Potter e i Doni della Morte - Parte 2', 'Butch Cassidy', 'Rocky', 'Barry Lyndon', 'Monsters & Co', 'Bohemian Rhapsody', 'Furore', 'Il mistero del falco', \"L'attimo fuggente\", 'Terminator', 'Donnie Darko', 'Gandhi', 'I diabolici', \"L'odio\", 'Ricomincio da capo', 'In the Mood for Love', 'Mademoiselle', 'Il mago di Oz', 'The Help', 'Le notti di Cabiria', 'Lo squalo', 'Prima del tramonto', 'Il castello nel cielo', 'Paris, Texas', 'Gangs of Wasseypur', 'Tangerines - Mandarini', 'I migliori anni della nostra vita', 'Guardiani della Galassia', 'La maledizione della prima luna', 'La bella e la bestia', \"L'esorcista\", \"Lagaan - C'era una volta in India\", 'Fanny & Alexander', 'Tre colori - Film rosso']"
   ]
  },
  {
   "cell_type": "markdown",
   "metadata": {},
   "source": [
    "Generate data"
   ]
  },
  {
   "cell_type": "code",
   "execution_count": 22,
   "metadata": {
    "collapsed": false
   },
   "outputs": [],
   "source": [
    "df = pd.read_csv('experiment_plots_2.csv', delimiter=';')\n",
    "data = []\n",
    "\n",
    "num_objects = 50\n",
    "for question_n in range(1, num_objects+1):\n",
    "    gt = df[df['question_n'] == question_n]['gt'].values[0]\n",
    "    gt_conf = df[df['question_n'] == question_n]['gt_conf'].values[0]\n",
    "    plot = df[df['question_n'] == question_n]['plot'].values[0]\n",
    "    # create list of answers\n",
    "    is_generate = True\n",
    "    while is_generate:\n",
    "        answers = random.sample(plots, 7)\n",
    "        if gt not in answers and gt_conf not in answers:\n",
    "            answers += [gt, gt_conf]\n",
    "            shuffle(answers)\n",
    "            is_generate = False\n",
    "\n",
    "    row = [question_n, plot, gt, gt_conf] + answers + [\"I don't know\"]\n",
    "    data.append(row)\n",
    "\n",
    "df2 = pd.DataFrame(data, columns=['question_n', 'plot', 'gt', 'gt_conf', 'v1', 'v2', 'v3', 'v4', 'v5', 'v6', 'v7', 'v8', 'v9', 'v10'])"
   ]
  },
  {
   "cell_type": "code",
   "execution_count": 23,
   "metadata": {
    "collapsed": false
   },
   "outputs": [],
   "source": [
    "df2.to_csv('experiment_plots_2_.csv', index=False)"
   ]
  },
  {
   "cell_type": "code",
   "execution_count": 24,
   "metadata": {
    "collapsed": false
   },
   "outputs": [
    {
     "data": {
      "text/html": [
       "<div>\n",
       "<style scoped>\n",
       "    .dataframe tbody tr th:only-of-type {\n",
       "        vertical-align: middle;\n",
       "    }\n",
       "\n",
       "    .dataframe tbody tr th {\n",
       "        vertical-align: top;\n",
       "    }\n",
       "\n",
       "    .dataframe thead th {\n",
       "        text-align: right;\n",
       "    }\n",
       "</style>\n",
       "<table border=\"1\" class=\"dataframe\">\n",
       "  <thead>\n",
       "    <tr style=\"text-align: right;\">\n",
       "      <th></th>\n",
       "      <th>question_n</th>\n",
       "      <th>plot</th>\n",
       "      <th>gt</th>\n",
       "      <th>gt_conf</th>\n",
       "      <th>v1</th>\n",
       "      <th>v2</th>\n",
       "      <th>v3</th>\n",
       "      <th>v4</th>\n",
       "      <th>v5</th>\n",
       "      <th>v6</th>\n",
       "      <th>v7</th>\n",
       "      <th>v8</th>\n",
       "      <th>v9</th>\n",
       "      <th>v10</th>\n",
       "    </tr>\n",
       "  </thead>\n",
       "  <tbody>\n",
       "    <tr>\n",
       "      <th>0</th>\n",
       "      <td>1</td>\n",
       "      <td>This movie follows a teenager named Stevie gro...</td>\n",
       "      <td>Mid90s</td>\n",
       "      <td>Skate Kitchen</td>\n",
       "      <td>Quarto potere</td>\n",
       "      <td>Il tesoro della Sierra Madre</td>\n",
       "      <td>Il pianista</td>\n",
       "      <td>Il caso Spotlight</td>\n",
       "      <td>Memento</td>\n",
       "      <td>Va' e vedi</td>\n",
       "      <td>Mid90s</td>\n",
       "      <td>Skate Kitchen</td>\n",
       "      <td>Vivere</td>\n",
       "      <td>I don't know</td>\n",
       "    </tr>\n",
       "    <tr>\n",
       "      <th>1</th>\n",
       "      <td>2</td>\n",
       "      <td>Follows the charming yet troubled Ben Burns (H...</td>\n",
       "      <td>Ben is Back</td>\n",
       "      <td>Beautiful Boy</td>\n",
       "      <td>Ben is Back</td>\n",
       "      <td>Vite vendute</td>\n",
       "      <td>Beautiful Boy</td>\n",
       "      <td>Le ali della libertà</td>\n",
       "      <td>Ran</td>\n",
       "      <td>Viale del tramonto</td>\n",
       "      <td>I soliti sospetti</td>\n",
       "      <td>La fiamma del peccato</td>\n",
       "      <td>Casinò</td>\n",
       "      <td>I don't know</td>\n",
       "    </tr>\n",
       "  </tbody>\n",
       "</table>\n",
       "</div>"
      ],
      "text/plain": [
       "   question_n                                               plot           gt  \\\n",
       "0           1  This movie follows a teenager named Stevie gro...       Mid90s   \n",
       "1           2  Follows the charming yet troubled Ben Burns (H...  Ben is Back   \n",
       "\n",
       "         gt_conf             v1                            v2             v3  \\\n",
       "0  Skate Kitchen  Quarto potere  Il tesoro della Sierra Madre    Il pianista   \n",
       "1  Beautiful Boy    Ben is Back                  Vite vendute  Beautiful Boy   \n",
       "\n",
       "                     v4       v5                  v6                 v7  \\\n",
       "0     Il caso Spotlight  Memento          Va' e vedi             Mid90s   \n",
       "1  Le ali della libertà      Ran  Viale del tramonto  I soliti sospetti   \n",
       "\n",
       "                      v8      v9           v10  \n",
       "0          Skate Kitchen  Vivere  I don't know  \n",
       "1  La fiamma del peccato  Casinò  I don't know  "
      ]
     },
     "execution_count": 24,
     "metadata": {},
     "output_type": "execute_result"
    }
   ],
   "source": [
    "df2.head(2)"
   ]
  },
  {
   "cell_type": "code",
   "execution_count": null,
   "metadata": {
    "collapsed": true
   },
   "outputs": [],
   "source": []
  }
 ],
 "metadata": {
  "kernelspec": {
   "display_name": "Python 2",
   "language": "python",
   "name": "python2"
  },
  "language_info": {
   "codemirror_mode": {
    "name": "ipython",
    "version": 2
   },
   "file_extension": ".py",
   "mimetype": "text/x-python",
   "name": "python",
   "nbconvert_exporter": "python",
   "pygments_lexer": "ipython2",
   "version": "2.7.10"
  }
 },
 "nbformat": 4,
 "nbformat_minor": 0
}
