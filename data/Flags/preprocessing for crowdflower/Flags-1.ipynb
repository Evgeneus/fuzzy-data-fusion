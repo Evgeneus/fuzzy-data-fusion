{
 "cells": [
  {
   "cell_type": "markdown",
   "metadata": {},
   "source": [
    "# Flags-1"
   ]
  },
  {
   "cell_type": "code",
   "execution_count": 12,
   "metadata": {
    "collapsed": false
   },
   "outputs": [],
   "source": [
    "import pandas as pd\n",
    "import os"
   ]
  },
  {
   "cell_type": "code",
   "execution_count": 40,
   "metadata": {
    "collapsed": true
   },
   "outputs": [],
   "source": [
    "all_countries = ['bhutan', 'norway', 'nigeria', 'france', 'chile', 'czech republic', 'vatican city state', 'bouvet island', 'croatia', 'united arab emirates', 'qatar', 'guinea', 'panama', 'virgin islands (u.s.)', 'morocco', 'united kingdom', 'guam', 'somalia', 'yugoslavia', 'afghanistan', 'japan', 'iceland', 'el salvador', 'american samoa', 'cambodia', 'palau', 'mali', 'monaco', 'romania', 'zambia', 'bosnia and herzegowina', 'ireland', 'honduras', 'new caledonia', 'uruguay', 'moldova', 'costa rica', 'gabon', 'kyrgyzstan', 'denmark', 'puerto rico', 'venezuela', 'marshall islands', 'portugal', 'kiribati', 'reunion', 'syrian arab republic', 'swaziland', 'china', 'trinidad and tobago', 'israel', 'korea (north)', 'lithuania', 'eritrea', 'thailand', 'st.pierre', 'italy', 'georgia', 'indonesia', 'faroe islands', 'ghana', 'vanuatu', 'armenia', 'russian federation', 'lebanon', 'kazakhstan', 'fiji', 'rwanda', 'st vincent/grenadines', 'aruba', 'barbados', 'greenland', 'nicaragua', 'ethiopia', 'viet nam', 'colombia', 'mauritius', 'mexico', 'antigua and barbuda', 'st. helena', 'nauru', 'kuwait', 'lesotho', 'australia', 'iran', 'tuvalu', 'tunisia', 'argentina', 'bermuda', 'netherlands antilles', 'virgin islands (british)', 'cape verde', 'togo', 'bahrain', 'iraq', 'martinique', 'pitcairn', 'tokelau', 'egypt', 'india', 'austria', 'san marino', 'guinea-bissau', 'dominican republic', 'grenada', 'pakistan', 'south africa', 'saint kitts and nevis', 'malaysia', 'singapore', 'benin', 'christmas island', 'azerbaijan', 'estonia', 'burundi', 'western sahara', 'taiwan', 'guatemala', 'macedonia', 'netherlands', 'united states', 'liechtenstein', 'belarus', 'central african rep', 'mayotte', 'cook islands', 'albania', 'comoros', 'maldives', 'turkey', 'nepal', 'bulgaria', 'micronesia', 'montserrat', 'northern mariana islands', 'jordan', 'cayman islands', 'kenya', 'norfolk island', 'paraguay', 'peru', 'angola', 'korea (south)', 'east timor', 'malta', 'greece', 'saudi arabia', 'hungary', 'bangladesh', 'tajikistan', 'switzerland', 'belgium', 'jamaica', 'papua new guinea', 'congo', 'finland', 'hong kong', 'mozambique', 'gibraltar', 'bahamas', 'bolivia', 'canada', 'cameroon', 'french guiana', 'suriname', 'sierra leone', 'ecuador', 'sweden', 'philippines', 'poland', 'senegal', 'anguilla', 'french s. territories', 'madagascar', 'libya', 'cote d`ivoire', 'myanmar', 'niue', 'sao tome', 'slovakia', 'tanzania', 'botswana', 'spain', 'cocos islands', 'belize', 'brunei darussalam', 'solomon islands', 'zaire', 'zimbabwe', 'sri lanka', 'chad', 'djibouti', 'andorra', 'macau', 'sudan', 'algeria', 'niger', 'gambia', 'mongolia', 'falkland islands (malvinas)', 'oman', 'haiti', 'uganda', 'seychelles', 'guyana', 'liberia', 'french polynesia', 'mauritania', 'dominica', 'saint lucia', 'slovenia', 'equatorial guinea', 'burkina faso', 'tonga', 'turkmenistan', 'ukraine', 'laos', 'uzbekistan', 'new zealand', 'cuba', 'luxembourg', 'antarctica', 'brazil', 'samoa', 'malawi', 'cyprus', 'namibia', 'germany', 'yemen', 'latvia', 'guadeloupe']"
   ]
  },
  {
   "cell_type": "code",
   "execution_count": 10,
   "metadata": {
    "collapsed": false
   },
   "outputs": [],
   "source": [
    "df = pd.DataFrame([], columns=['question_n', 'pic_url', 'gt', 'gt_conf', 'v1', 'v2', 'v3', 'v4', 'v5', 'v6', 'v7', 'v8', 'v9', 'v10'])"
   ]
  },
  {
   "cell_type": "code",
   "execution_count": 48,
   "metadata": {
    "collapsed": false
   },
   "outputs": [
    {
     "data": {
      "text/plain": [
       "['1.belgium',\n",
       " '2.costa rica',\n",
       " '3.denmark',\n",
       " '4.haiti',\n",
       " '5.hungary',\n",
       " '6.indonesia',\n",
       " '7.ireland',\n",
       " '8.moldova',\n",
       " '9.new zealand',\n",
       " '10.norway',\n",
       " '11.paraguay',\n",
       " '12.senegal',\n",
       " '13.slovenia',\n",
       " '14.azerbaijan',\n",
       " '15.malta',\n",
       " '16.latvia',\n",
       " '17.mexico',\n",
       " '18.brazil',\n",
       " '19.kazakhstan',\n",
       " '20.usa',\n",
       " '21.greenland',\n",
       " '22.israel',\n",
       " '23.aruba',\n",
       " '24.guatemala',\n",
       " '25.egypt',\n",
       " '26.bolivia',\n",
       " '27.nigeria',\n",
       " '28.colombia',\n",
       " '29.korea',\n",
       " '30.armenia']"
      ]
     },
     "execution_count": 48,
     "metadata": {},
     "output_type": "execute_result"
    }
   ],
   "source": [
    "def get_names(dir_name):\n",
    "    names= [name for name in os.listdir(\"./{}/\".format(dir_name))]\n",
    "    names.sort(key=lambda x: int(x[:2]) if x[1] !='.' else int(x[0]))\n",
    "    for c_ind, c in enumerate(names):\n",
    "        if '-' in c:\n",
    "            names[c_ind] = c.split('-')[0].lower()\n",
    "        else:\n",
    "            names[c_ind] = '.'.join(c.split('.')[:2]).lower()\n",
    "    return names\n",
    "dir_name_flags1 = 'Experiment Flags-1'\n",
    "countries_flags1 = get_names(dir_name_flags1)\n",
    "countries_flags1"
   ]
  },
  {
   "cell_type": "code",
   "execution_count": null,
   "metadata": {
    "collapsed": true
   },
   "outputs": [],
   "source": []
  }
 ],
 "metadata": {
  "kernelspec": {
   "display_name": "Python 2",
   "language": "python",
   "name": "python2"
  },
  "language_info": {
   "codemirror_mode": {
    "name": "ipython",
    "version": 2
   },
   "file_extension": ".py",
   "mimetype": "text/x-python",
   "name": "python",
   "nbconvert_exporter": "python",
   "pygments_lexer": "ipython2",
   "version": "2.7.10"
  }
 },
 "nbformat": 4,
 "nbformat_minor": 0
}
