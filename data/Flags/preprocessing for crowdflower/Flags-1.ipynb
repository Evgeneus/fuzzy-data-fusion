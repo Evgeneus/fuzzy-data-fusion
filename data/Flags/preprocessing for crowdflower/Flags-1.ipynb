{
 "cells": [
  {
   "cell_type": "markdown",
   "metadata": {},
   "source": [
    "# Flags-1"
   ]
  },
  {
   "cell_type": "code",
   "execution_count": 54,
   "metadata": {
    "collapsed": false
   },
   "outputs": [],
   "source": [
    "import pandas as pd\n",
    "import os\n",
    "import random\n",
    "from random import shuffle"
   ]
  },
  {
   "cell_type": "code",
   "execution_count": 40,
   "metadata": {
    "collapsed": true
   },
   "outputs": [],
   "source": [
    "all_countries = ['bhutan', 'norway', 'nigeria', 'france', 'chile', 'czech republic', 'vatican city state', 'bouvet island', 'croatia', 'united arab emirates', 'qatar', 'guinea', 'panama', 'virgin islands (u.s.)', 'morocco', 'united kingdom', 'guam', 'somalia', 'yugoslavia', 'afghanistan', 'japan', 'iceland', 'el salvador', 'american samoa', 'cambodia', 'palau', 'mali', 'monaco', 'romania', 'zambia', 'bosnia and herzegowina', 'ireland', 'honduras', 'new caledonia', 'uruguay', 'moldova', 'costa rica', 'gabon', 'kyrgyzstan', 'denmark', 'puerto rico', 'venezuela', 'marshall islands', 'portugal', 'kiribati', 'reunion', 'syrian arab republic', 'swaziland', 'china', 'trinidad and tobago', 'israel', 'korea (north)', 'lithuania', 'eritrea', 'thailand', 'st.pierre', 'italy', 'georgia', 'indonesia', 'faroe islands', 'ghana', 'vanuatu', 'armenia', 'russian federation', 'lebanon', 'kazakhstan', 'fiji', 'rwanda', 'st vincent/grenadines', 'aruba', 'barbados', 'greenland', 'nicaragua', 'ethiopia', 'viet nam', 'colombia', 'mauritius', 'mexico', 'antigua and barbuda', 'st. helena', 'nauru', 'kuwait', 'lesotho', 'australia', 'iran', 'tuvalu', 'tunisia', 'argentina', 'bermuda', 'netherlands antilles', 'virgin islands (british)', 'cape verde', 'togo', 'bahrain', 'iraq', 'martinique', 'pitcairn', 'tokelau', 'egypt', 'india', 'austria', 'san marino', 'guinea-bissau', 'dominican republic', 'grenada', 'pakistan', 'south africa', 'saint kitts and nevis', 'malaysia', 'singapore', 'benin', 'christmas island', 'azerbaijan', 'estonia', 'burundi', 'western sahara', 'taiwan', 'guatemala', 'macedonia', 'netherlands', 'united states', 'liechtenstein', 'belarus', 'central african rep', 'mayotte', 'cook islands', 'albania', 'comoros', 'maldives', 'turkey', 'nepal', 'bulgaria', 'micronesia', 'montserrat', 'northern mariana islands', 'jordan', 'cayman islands', 'kenya', 'norfolk island', 'paraguay', 'peru', 'angola', 'korea (south)', 'east timor', 'malta', 'greece', 'saudi arabia', 'hungary', 'bangladesh', 'tajikistan', 'switzerland', 'belgium', 'jamaica', 'papua new guinea', 'congo', 'finland', 'hong kong', 'mozambique', 'gibraltar', 'bahamas', 'bolivia', 'canada', 'cameroon', 'french guiana', 'suriname', 'sierra leone', 'ecuador', 'sweden', 'philippines', 'poland', 'senegal', 'anguilla', 'french s. territories', 'madagascar', 'libya', 'cote d`ivoire', 'myanmar', 'niue', 'sao tome', 'slovakia', 'tanzania', 'botswana', 'spain', 'cocos islands', 'belize', 'brunei darussalam', 'solomon islands', 'zaire', 'zimbabwe', 'sri lanka', 'chad', 'djibouti', 'andorra', 'macau', 'sudan', 'algeria', 'niger', 'gambia', 'mongolia', 'falkland islands (malvinas)', 'oman', 'haiti', 'uganda', 'seychelles', 'guyana', 'liberia', 'french polynesia', 'mauritania', 'dominica', 'saint lucia', 'slovenia', 'equatorial guinea', 'burkina faso', 'tonga', 'turkmenistan', 'ukraine', 'laos', 'uzbekistan', 'new zealand', 'cuba', 'luxembourg', 'antarctica', 'brazil', 'samoa', 'malawi', 'cyprus', 'namibia', 'germany', 'yemen', 'latvia', 'guadeloupe']"
   ]
  },
  {
   "cell_type": "markdown",
   "metadata": {},
   "source": [
    "Read names of the countries from the directories"
   ]
  },
  {
   "cell_type": "code",
   "execution_count": 80,
   "metadata": {
    "collapsed": false
   },
   "outputs": [],
   "source": [
    "def get_names(dir_name):\n",
    "    names= [name for name in os.listdir(\"./{}/\".format(dir_name))]\n",
    "    names.sort(key=lambda x: int(x[:2]) if x[1] !='.' else int(x[0]))\n",
    "    for c_ind, c in enumerate(names):\n",
    "        if '-' in c:\n",
    "            names[c_ind] = c.split('-')[0].lower()\n",
    "        else:\n",
    "            names[c_ind] = '.'.join(c.split('.')[:2]).lower()\n",
    "    return names\n",
    "\n",
    "dir_name_flags1 = 'Experiment Flags-2'\n",
    "countries_flags1 = get_names(dir_name_flags1)\n",
    "\n",
    "dir_name_flags2 = 'Experiment Flags-1'\n",
    "countries_flags2 = get_names(dir_name_flags2)"
   ]
  },
  {
   "cell_type": "markdown",
   "metadata": {},
   "source": [
    "Generate data"
   ]
  },
  {
   "cell_type": "code",
   "execution_count": 81,
   "metadata": {
    "collapsed": false
   },
   "outputs": [],
   "source": [
    "data = []\n",
    "\n",
    "num_objects = 30\n",
    "num_similar_objects = 13  # first 13 objects can be confused with the first 13 objects in other experiment\n",
    "for obj_id in range(num_objects):\n",
    "    gt = countries_flags1[obj_id].split('.')[1]\n",
    "    gt_conf = ''\n",
    "    if obj_id < num_similar_objects:  # form cluster\n",
    "        gt_conf = countries_flags2[obj_id].split('.')[1]\n",
    "        # create list of answers\n",
    "        is_generate = True\n",
    "        while is_generate:\n",
    "            answers = random.sample(all_countries, 8)\n",
    "            if gt not in answers and gt_conf not in answers:\n",
    "                answers += [gt, gt_conf]\n",
    "                shuffle(answers)\n",
    "                is_generate = False\n",
    "    else:\n",
    "        is_generate = True\n",
    "        while is_generate:\n",
    "            answers = random.sample(all_countries, 9)\n",
    "            if gt not in answers:\n",
    "                answers += [gt]\n",
    "                shuffle(answers)\n",
    "                is_generate = False\n",
    "                \n",
    "    row = [obj_id+1, '', gt[0].upper()+gt[1:], gt_conf[0].upper()+gt_conf[1:] if gt_conf else ''] + [a[0].upper()+a[1:] for a in answers]\n",
    "    data.append(row)\n",
    "\n",
    "df = pd.DataFrame(data, columns=['question_n', 'pic_url', 'gt', 'gt_conf', 'v1', 'v2', 'v3', 'v4', 'v5', 'v6', 'v7', 'v8', 'v9', 'v10'])"
   ]
  },
  {
   "cell_type": "code",
   "execution_count": 83,
   "metadata": {
    "collapsed": false
   },
   "outputs": [],
   "source": [
    "df.to_csv('experiment_flags_2.csv', index=False)"
   ]
  },
  {
   "cell_type": "code",
   "execution_count": null,
   "metadata": {
    "collapsed": true
   },
   "outputs": [],
   "source": []
  }
 ],
 "metadata": {
  "kernelspec": {
   "display_name": "Python 2",
   "language": "python",
   "name": "python2"
  },
  "language_info": {
   "codemirror_mode": {
    "name": "ipython",
    "version": 2
   },
   "file_extension": ".py",
   "mimetype": "text/x-python",
   "name": "python",
   "nbconvert_exporter": "python",
   "pygments_lexer": "ipython2",
   "version": "2.7.10"
  }
 },
 "nbformat": 4,
 "nbformat_minor": 0
}
